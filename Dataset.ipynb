{
  "nbformat": 4,
  "nbformat_minor": 0,
  "metadata": {
    "colab": {
      "provenance": [],
      "authorship_tag": "ABX9TyP1XrCToRKuXIrifjo2jj4f",
      "include_colab_link": true
    },
    "kernelspec": {
      "name": "python3",
      "display_name": "Python 3"
    },
    "language_info": {
      "name": "python"
    }
  },
  "cells": [
    {
      "cell_type": "markdown",
      "metadata": {
        "id": "view-in-github",
        "colab_type": "text"
      },
      "source": [
        "<a href=\"https://colab.research.google.com/github/berfinyuksel/cloudcomputing/blob/main/Dataset.ipynb\" target=\"_parent\"><img src=\"https://colab.research.google.com/assets/colab-badge.svg\" alt=\"Open In Colab\"/></a>"
      ]
    },
    {
      "cell_type": "code",
      "execution_count": null,
      "metadata": {
        "id": "sRcLKnV6f72Z"
      },
      "outputs": [],
      "source": [
        "import random\n",
        "\n",
        "def generate_dataset(n, d, dataset):\n",
        "    with open(dataset, 'w') as file:\n",
        "        for _ in range(n):\n",
        "            point = [random.random() for _ in range(d)]\n",
        "            line = ' '.join(str(value) for value in point)\n",
        "            file.write(line + '\\n')\n",
        "\n",
        "# Example usage\n",
        "n = int(input(\"Enter the n of points: \"))\n",
        "d = int(input(\"Enter the d: \"))\n",
        "dataset = input(\"Enter the output file name: \")\n",
        "\n",
        "generate_dataset(n, d, dataset)\n",
        "print(f\"Dataset with {n} points and {d} values per point has been generated in '{dataset}'.\")"
      ]
    }
  ]
}