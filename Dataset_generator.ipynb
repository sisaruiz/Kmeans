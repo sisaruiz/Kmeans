{
  "nbformat": 4,
  "nbformat_minor": 0,
  "metadata": {
    "colab": {
      "provenance": [],
      "authorship_tag": "ABX9TyNGl52aF/m7ZJquXN5D1D9L",
      "include_colab_link": true
    },
    "kernelspec": {
      "name": "python3",
      "display_name": "Python 3"
    },
    "language_info": {
      "name": "python"
    }
  },
  "cells": [
    {
      "cell_type": "markdown",
      "metadata": {
        "id": "view-in-github",
        "colab_type": "text"
      },
      "source": [
        "<a href=\"https://colab.research.google.com/github/berfinyuksel/cloudcomputing/blob/main/Dataset_generator.ipynb\" target=\"_parent\"><img src=\"https://colab.research.google.com/assets/colab-badge.svg\" alt=\"Open In Colab\"/></a>"
      ]
    },
    {
      "cell_type": "code",
      "execution_count": 4,
      "metadata": {
        "colab": {
          "base_uri": "https://localhost:8080/"
        },
        "id": "AaeMq78DRBMH",
        "outputId": "64e43e10-b608-41e2-a80f-c38d1cde974a"
      },
      "outputs": [
        {
          "output_type": "stream",
          "name": "stdout",
          "text": [
            "Enter the number of points: 10\n",
            "Enter the number of dimensions: 2\n",
            "Points saved in points.txt successfully.\n"
          ]
        }
      ],
      "source": [
        "import random\n",
        "\n",
        "def generate_points(num_points, dimensions):\n",
        "    points = []\n",
        "    for _ in range(num_points):\n",
        "        point = []\n",
        "        for _ in range(dimensions):\n",
        "            coordinate = random.uniform(-25.0, 25.0) # Generate double values with 2 decimal places\n",
        "            point.append(coordinate)\n",
        "        points.append(point)\n",
        "    return points\n",
        "\n",
        "# Accept user input for the number of points and dimensions\n",
        "num_points = int(input(\"Enter the number of points: \"))\n",
        "dimensions = int(input(\"Enter the number of dimensions: \"))\n",
        "\n",
        "# Generate the points\n",
        "points = generate_points(num_points, dimensions)\n",
        "\n",
        "# Save the points in a text file\n",
        "filename = \"points.txt\"\n",
        "with open(filename, 'w') as file:\n",
        "    for point in points:\n",
        "        line = ' '.join(map(str, point))\n",
        "        file.write(line + '\\n')\n",
        "\n",
        "print(f\"Points saved in {filename} successfully.\")\n"
      ]
    }
  ]
}