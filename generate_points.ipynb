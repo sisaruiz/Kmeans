{
  "nbformat": 4,
  "nbformat_minor": 0,
  "metadata": {
    "colab": {
      "provenance": [],
      "authorship_tag": "ABX9TyMqXWseFlrZRPHSsgG/TnOB",
      "include_colab_link": true
    },
    "kernelspec": {
      "name": "python3",
      "display_name": "Python 3"
    },
    "language_info": {
      "name": "python"
    }
  },
  "cells": [
    {
      "cell_type": "markdown",
      "metadata": {
        "id": "view-in-github",
        "colab_type": "text"
      },
      "source": [
        "<a href=\"https://colab.research.google.com/github/berfinyuksel/cloudcomputing/blob/main/generate_points.ipynb\" target=\"_parent\"><img src=\"https://colab.research.google.com/assets/colab-badge.svg\" alt=\"Open In Colab\"/></a>"
      ]
    },
    {
      "cell_type": "code",
      "execution_count": null,
      "metadata": {
        "id": "9-gqMS_B_oVx"
      },
      "outputs": [],
      "source": [
        "import random\n",
        "\n",
        "def generate_points(num_points, dimensions):\n",
        "    points = []\n",
        "    for _ in range(num_points):\n",
        "        point = []\n",
        "        for _ in range(dimensions):\n",
        "            coordinate = round(random.uniform(-25.0, 25.0))\n",
        "            point.append(coordinate)\n",
        "        points.append(point)\n",
        "    return points\n",
        "\n",
        "# Accept user input for the number of points and dimensions\n",
        "num_points = int(input(\"Enter the number of points: \"))\n",
        "dimensions = int(input(\"Enter the number of dimensions: \"))\n",
        "\n",
        "# Generate the points\n",
        "points = generate_points(num_points, dimensions)\n",
        "\n",
        "# Save the points in a text file\n",
        "filename = \"points.txt\"\n",
        "with open(filename, 'w') as file:\n",
        "    for point in points:\n",
        "        line = ' '.join(map(str, point))\n",
        "        file.write(line + '\\n')\n",
        "\n",
        "print(f\"Points saved in {filename} successfully.\")\n"
      ]
    }
  ]
}